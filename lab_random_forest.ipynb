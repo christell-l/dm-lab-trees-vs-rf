{
  "cells": [
    {
      "cell_type": "markdown",
      "metadata": {
        "id": "xuOBNOwkUpxy"
      },
      "source": [
        "# **Laboratorio: Árboles de Decisión vs Random Forest**\n",
        "\n",
        "## **Objetivo del laboratorio**\n",
        "Comparar un Árbol de Decisión con un Random Forest. Explorar sus hiperparámetros y evaluar su desempeño en un dataset real.\n"
      ]
    },
    {
      "cell_type": "markdown",
      "source": [
        "# **1. Preparacion Inicial**"
      ],
      "metadata": {
        "id": "3Zb95tePfse1"
      }
    },
    {
      "cell_type": "code",
      "source": [
        "# Importar las librerias\n",
        "import numpy as np\n",
        "import pandas as pd\n",
        "import matplotlib.pyplot as plt\n",
        "import seaborn as sns\n",
        "from sklearn.datasets import load_wine\n",
        "from sklearn.model_selection import train_test_split\n",
        "from sklearn.tree import DecisionTreeClassifier, plot_tree\n",
        "from sklearn.ensemble import RandomForestClassifier\n",
        "from sklearn.metrics import (\n",
        "    accuracy_score, classification_report, confusion_matrix, ConfusionMatrixDisplay\n",
        ")\n",
        "dataset = load_wine(as_frame=True)\n",
        "\n",
        "# Reproducibilidad\n",
        "RANDOM_STATE = 42\n",
        "\n",
        "# Carga de datos\n",
        "wine = load_wine(as_frame=True)\n",
        "df = wine.frame.copy() # Recuerda colocar paréntesis pq si no te lo vuelve función en lugar de data frame\n",
        "# # Variable predictora (input del modelo)\n",
        "X = df.drop(columns=[\"target\"])\n",
        "# # Variable objetivo que se quiere predecir\n",
        "Y = df[\"target\"]\n"
      ],
      "metadata": {
        "id": "1bSujJ9VYFCG"
      },
      "execution_count": 57,
      "outputs": []
    },
    {
      "cell_type": "code",
      "source": [
        "# Información del dataset\n",
        "print(\" Shape X:\", X.shape, \" Shape y:\", Y.shape)\n",
        "print(\"Clases:\", Y.unique().tolist())\n",
        "print(\"Distribución de clases: \\n\",\n",
        "      Y.value_counts(normalize=True).round(3))"
      ],
      "metadata": {
        "colab": {
          "base_uri": "https://localhost:8080/",
          "height": 0
        },
        "id": "dAOkn56pebFo",
        "outputId": "0d77c54b-afe7-4978-f7a6-bd69422e897c"
      },
      "execution_count": 58,
      "outputs": [
        {
          "output_type": "stream",
          "name": "stdout",
          "text": [
            " Shape X: (178, 13)  Shape y: (178,)\n",
            "Clases: [0, 1, 2]\n",
            "Distribución de clases: \n",
            " target\n",
            "1    0.399\n",
            "0    0.331\n",
            "2    0.270\n",
            "Name: proportion, dtype: float64\n"
          ]
        }
      ]
    },
    {
      "cell_type": "code",
      "source": [
        "# Split 70/30\n",
        "X_train, X_test, Y_train, Y_test = train_test_split(\n",
        "    X, Y, test_size=0.3, random_state=RANDOM_STATE, stratify=Y\n",
        ")"
      ],
      "metadata": {
        "id": "vYDj7Sd3feoH"
      },
      "execution_count": 59,
      "outputs": []
    },
    {
      "cell_type": "markdown",
      "source": [
        "# **2. Árbol de Desición Básico**"
      ],
      "metadata": {
        "id": "_59sLXTxgEWR"
      }
    },
    {
      "cell_type": "code",
      "source": [
        "# baseline (árbol de decisión sin ajustar hiperparámetros)\n",
        "dt_base = DecisionTreeClassifier(random_state=RANDOM_STATE)\n",
        "dt_base.fit(X_train, Y_train) # fitting\n",
        "\n",
        "y_pred_train = dt_base.predict(X_train) # predicciones sobre los mismos datos de entrenamiento (posible overfititng)\n",
        "y_pred_test_dt = dt_base.predict(X_test) # predicciones sobre el conjunto de prueba (mide la capacidad de generalizar)\n",
        "\n",
        "acc_train = accuracy_score(Y_train, y_pred_train) # Proporción de vinos clasificados correctamente en entrenamiento\n",
        "acc_test = accuracy_score(Y_test, y_pred_test_dt) # Proporción de vinos clasificados correctamente en testing\n",
        "# si el training accuracy es mayor que el de test puede haber sobreajuste\n",
        "\n",
        "print(f\"[DecisionTree - base] Acc train: {acc_train:.3f} Acc test: {acc_test:.3f}\")\n",
        "\n",
        "print(\"\\n [DecisionTree - base] Classification Report (test)\")\n",
        "print(classification_report(Y_test, y_pred_test_dt, target_names=wine.target_names))\n",
        "\n",
        "# Precision → de todos los vinos que predije como “clase 0”, ¿qué porcentaje realmente lo eran?\n",
        "# Recall → de todos los vinos de clase 0, ¿qué porcentaje logré detectar?\n",
        "# F1-score → balance entre precision y recall.\n",
        "# Support → número de ejemplos de esa clase en el test."
      ],
      "metadata": {
        "colab": {
          "base_uri": "https://localhost:8080/",
          "height": 0
        },
        "id": "J_XdzRBnZIdK",
        "outputId": "9375bd78-4d71-4b79-a445-eb4653ab56e5"
      },
      "execution_count": 60,
      "outputs": [
        {
          "output_type": "stream",
          "name": "stdout",
          "text": [
            "[DecisionTree - base] Acc train: 1.000 Acc test: 0.963\n",
            "\n",
            " [DecisionTree - base] Classification Report (test)\n",
            "              precision    recall  f1-score   support\n",
            "\n",
            "     class_0       1.00      0.94      0.97        18\n",
            "     class_1       0.91      1.00      0.95        21\n",
            "     class_2       1.00      0.93      0.97        15\n",
            "\n",
            "    accuracy                           0.96        54\n",
            "   macro avg       0.97      0.96      0.96        54\n",
            "weighted avg       0.97      0.96      0.96        54\n",
            "\n"
          ]
        }
      ]
    },
    {
      "cell_type": "code",
      "source": [
        "# Matriz de confusión\n",
        "cm_dt = confusion_matrix(Y_test, y_pred_test_dt)\n",
        "plt.figure(figsize=(5,4))\n",
        "sns.heatmap(cm_dt, annot=True, fmt='d', cbar=False, xticklabels=wine.target_names, yticklabels=wine.target_names)\n",
        "plt.title(\"Decision Tress (base) - Matriz de confusión\")\n",
        "plt.xlabel('Predicción'); plt.ylabel('Real')\n",
        "plt.tight_layout()\n",
        "plt.show()"
      ],
      "metadata": {
        "colab": {
          "base_uri": "https://localhost:8080/",
          "height": 407
        },
        "id": "DARb4391rAFP",
        "outputId": "9a42f1c1-e9d3-4501-87aa-4b1ee8a6717f"
      },
      "execution_count": 61,
      "outputs": [
        {
          "output_type": "display_data",
          "data": {
            "text/plain": [
              "<Figure size 500x400 with 1 Axes>"
            ],
            "image/png": "[encoded data removed]"
          },
          "metadata": {}
        }
      ]
    },
    {
      "cell_type": "markdown",
      "source": [
        "**Pregunta de reflexión:** ¿Observas overfitting? ¿Qué diferencias notas entre train y test?\n",
        "\n",
        "El modelo memorizó completamente los datos de entrenamiento lo cual implica overfitting. A pesar de ello, la diferencia entre train y test accuracy es mínima, en otras palabras, a pesar del overfitting el modelo predice muy bien. Gracias a los resultados se concluyen que hay sobreajuste pero no es crítico."
      ],
      "metadata": {
        "id": "oylybUP4sSIo"
      }
    },
    {
      "cell_type": "markdown",
      "source": [
        "# **3. Ajustando hiperparámetros del árbol**"
      ],
      "metadata": {
        "id": "qt-Mx2wtxWXH"
      }
    },
    {
      "cell_type": "code",
      "source": [
        "# Árbol regularizado\n",
        "dt_tuned = DecisionTreeClassifier(\n",
        "    max_depth=3,\n",
        "    min_samples_split=10, # Para evitar que memorice casos individuales\n",
        "    random_state=RANDOM_STATE\n",
        ")\n",
        "dt_tuned.fit(X_train, Y_train)\n",
        "\n",
        "y_pred_train_dt2 = dt_tuned.predict(X_train)\n",
        "y_pred_test_dt2  = dt_tuned.predict(X_test)\n",
        "\n",
        "acc_train_dt2 = accuracy_score(Y_train, y_pred_train_dt2)\n",
        "acc_test_dt2  = accuracy_score(Y_test, y_pred_test_dt2)\n",
        "print(f\"[DecisionTree - tuned] Acc train: {acc_train_dt2:.3f} | Acc test: {acc_test_dt2:.3f}\")\n",
        "\n",
        "print(\"\\n[DecisionTree - tuned] Classification Report (test)\")\n",
        "print(classification_report(Y_test, y_pred_test_dt2, target_names=wine.target_names))\n",
        "\n",
        "# Matriz de confusión\n",
        "cm_dt2 = confusion_matrix(Y_test, y_pred_test_dt2)\n",
        "plt.figure(figsize=(5,4))\n",
        "sns.heatmap(cm_dt2, annot=True, fmt=\"d\", cbar=False,\n",
        "            xticklabels=wine.target_names, yticklabels=wine.target_names)\n",
        "plt.title(\"Decision Tree (tuned) - Matriz de confusión\")\n",
        "plt.xlabel(\"Predicción\"); plt.ylabel(\"Real\")\n",
        "plt.tight_layout()\n",
        "plt.show()"
      ],
      "metadata": {
        "colab": {
          "base_uri": "https://localhost:8080/",
          "height": 633
        },
        "id": "BL_ucq07wc1O",
        "outputId": "26381670-f669-491e-dad5-9d50f4406d66"
      },
      "execution_count": 62,
      "outputs": [
        {
          "output_type": "stream",
          "name": "stdout",
          "text": [
            "[DecisionTree - tuned] Acc train: 0.992 | Acc test: 0.963\n",
            "\n",
            "[DecisionTree - tuned] Classification Report (test)\n",
            "              precision    recall  f1-score   support\n",
            "\n",
            "     class_0       1.00      0.94      0.97        18\n",
            "     class_1       0.91      1.00      0.95        21\n",
            "     class_2       1.00      0.93      0.97        15\n",
            "\n",
            "    accuracy                           0.96        54\n",
            "   macro avg       0.97      0.96      0.96        54\n",
            "weighted avg       0.97      0.96      0.96        54\n",
            "\n"
          ]
        },
        {
          "output_type": "display_data",
          "data": {
            "text/plain": [
              "<Figure size 500x400 with 1 Axes>"
            ],
            "image/png": "[encoded data removed]"
          },
          "metadata": {}
        }
      ]
    },
    {
      "cell_type": "markdown",
      "source": [
        "**Pregunta de reflexión:** ¿Mejoró la generalización? ¿Qué hiperparámetros parecen más importantes para controlar el sobreajuste?\n",
        "\n",
        "No, la generalización se mantuvo igual. Los hiperparámetros más importantes para controlar el sobreajuste parecen ser max depth y min samples split."
      ],
      "metadata": {
        "id": "miasWeT90Zjd"
      }
    },
    {
      "cell_type": "markdown",
      "source": [
        "# **4. Random Forest Básico**"
      ],
      "metadata": {
        "id": "Q2cylfcg00qX"
      }
    },
    {
      "cell_type": "code",
      "source": [
        "# Entrenar RandomForest por defecto y comparar accuracy vs árbol\n",
        "\n",
        "rf_base = RandomForestClassifier(random_state=RANDOM_STATE)\n",
        "rf_base.fit(X_train, Y_train)\n",
        "\n",
        "y_pred_train_rf = rf_base.predict(X_train)\n",
        "y_pred_test_rf  = rf_base.predict(X_test)\n",
        "\n",
        "acc_train_rf = accuracy_score(Y_train, y_pred_train_rf)\n",
        "acc_test_rf  = accuracy_score(Y_test, y_pred_test_rf)\n",
        "print(f\"[RandomForest - base] Acc train: {acc_train_rf:.3f} | Acc test: {acc_test_rf:.3f}\")\n",
        "\n",
        "print(\"\\n[RandomForest - base] Classification Report (test)\")\n",
        "print(classification_report(Y_test, y_pred_test_rf, target_names=wine.target_names))\n",
        "\n",
        "cm_rf = confusion_matrix(Y_test, y_pred_test_rf)\n",
        "plt.figure(figsize=(5,4))\n",
        "sns.heatmap(cm_rf, annot=True, fmt=\"d\", cbar=False,\n",
        "            xticklabels=wine.target_names, yticklabels=wine.target_names)\n",
        "plt.title(\"Random Forest (base) - Matriz de confusión\")\n",
        "plt.xlabel(\"Predicción\"); plt.ylabel(\"Real\")\n",
        "plt.tight_layout()\n",
        "plt.show()"
      ],
      "metadata": {
        "colab": {
          "base_uri": "https://localhost:8080/",
          "height": 633
        },
        "id": "UsamM4F6wcVR",
        "outputId": "851cfa10-5c61-4f29-f3f9-c13fa40af8fc"
      },
      "execution_count": 63,
      "outputs": [
        {
          "output_type": "stream",
          "name": "stdout",
          "text": [
            "[RandomForest - base] Acc train: 1.000 | Acc test: 1.000\n",
            "\n",
            "[RandomForest - base] Classification Report (test)\n",
            "              precision    recall  f1-score   support\n",
            "\n",
            "     class_0       1.00      1.00      1.00        18\n",
            "     class_1       1.00      1.00      1.00        21\n",
            "     class_2       1.00      1.00      1.00        15\n",
            "\n",
            "    accuracy                           1.00        54\n",
            "   macro avg       1.00      1.00      1.00        54\n",
            "weighted avg       1.00      1.00      1.00        54\n",
            "\n"
          ]
        },
        {
          "output_type": "display_data",
          "data": {
            "text/plain": [
              "<Figure size 500x400 with 1 Axes>"
            ],
            "image/png": "[encoded data removed]"
          },
          "metadata": {}
        }
      ]
    },
    {
      "cell_type": "markdown",
      "source": [
        "**Pregunta de reflexión:** ¿El Random Forest muestra más estabilidad que un solo árbol?\n",
        "\n",
        "En este caso mostró rendimiento perfecto."
      ],
      "metadata": {
        "id": "fRS1pi8x269Q"
      }
    },
    {
      "cell_type": "markdown",
      "source": [
        "# **5. Explorando Hiperparámetros en Random Forest**"
      ],
      "metadata": {
        "id": "TKsKqMqk3MVW"
      }
    },
    {
      "cell_type": "code",
      "source": [
        "values = [10, 50, 200, 500]\n",
        "results = []\n",
        "\n",
        "for n in values:\n",
        "    model = RandomForestClassifier(n_estimators=n, random_state=RANDOM_STATE, n_jobs=-1)\n",
        "    model.fit(X_train, Y_train)\n",
        "    y_pred_test = model.predict(X_test)\n",
        "    acc = accuracy_score(Y_test, y_pred_test)\n",
        "    results.append({\"n_estimators\": n, \"test_accuracy\": acc})\n",
        "\n",
        "df_results = pd.DataFrame(results)\n",
        "display(df_results)\n",
        "\n",
        "plt.figure(figsize=(6,4))\n",
        "plt.plot(df_results[\"n_estimators\"], df_results[\"test_accuracy\"], marker=\"o\")\n",
        "plt.title(\"Random Forest: accuracy vs n_estimators (test)\")\n",
        "plt.xlabel(\"n_estimators\")\n",
        "plt.ylabel(\"accuracy (test)\")\n",
        "plt.grid(True, alpha=0.3)\n",
        "plt.tight_layout()\n",
        "plt.show()"
      ],
      "metadata": {
        "colab": {
          "base_uri": "https://localhost:8080/",
          "height": 565
        },
        "id": "RbhF3tk23VYD",
        "outputId": "c16a0cbe-5692-440b-97a9-74dbd5e8f1fe"
      },
      "execution_count": 64,
      "outputs": [
        {
          "output_type": "display_data",
          "data": {
            "text/plain": [
              "   n_estimators  test_accuracy\n",
              "0            10       0.962963\n",
              "1            50       1.000000\n",
              "2           200       1.000000\n",
              "3           500       1.000000"
            ],
            "text/html": [
              "\n",
              "  <div id=\"df-e11917e1-2d79-4006-abd6-e0d0f5a25348\" class=\"colab-df-container\">\n",
              "    <div>\n",
              "<style scoped>\n",
              "    .dataframe tbody tr th:only-of-type {\n",
              "        vertical-align: middle;\n",
              "    }\n",
              "\n",
              "    .dataframe tbody tr th {\n",
              "        vertical-align: top;\n",
              "    }\n",
              "\n",
              "    .dataframe thead th {\n",
              "        text-align: right;\n",
              "    }\n",
              "</style>\n",
              "<table border=\"1\" class=\"dataframe\">\n",
              "  <thead>\n",
              "    <tr style=\"text-align: right;\">\n",
              "      <th></th>\n",
              "      <th>n_estimators</th>\n",
              "      <th>test_accuracy</th>\n",
              "    </tr>\n",
              "  </thead>\n",
              "  <tbody>\n",
              "    <tr>\n",
              "      <th>0</th>\n",
              "      <td>10</td>\n",
              "      <td>0.962963</td>\n",
              "    </tr>\n",
              "    <tr>\n",
              "      <th>1</th>\n",
              "      <td>50</td>\n",
              "      <td>1.000000</td>\n",
              "    </tr>\n",
              "    <tr>\n",
              "      <th>2</th>\n",
              "      <td>200</td>\n",
              "      <td>1.000000</td>\n",
              "    </tr>\n",
              "    <tr>\n",
              "      <th>3</th>\n",
              "      <td>500</td>\n",
              "      <td>1.000000</td>\n",
              "    </tr>\n",
              "  </tbody>\n",
              "</table>\n",
              "</div>\n",
              "    <div class=\"colab-df-buttons\">\n",
              "\n",
              "  <div class=\"colab-df-container\">\n",
              "    <button class=\"colab-df-convert\" onclick=\"convertToInteractive('df-e11917e1-2d79-4006-abd6-e0d0f5a25348')\"\n",
              "            title=\"Convert this dataframe to an interactive table.\"\n",
              "            style=\"display:none;\">\n",
              "\n",
              "  <svg xmlns=\"http://www.w3.org/2000/svg\" height=\"24px\" viewBox=\"0 -960 960 960\">\n",
              "    <path d=\"M120-120v-720h720v720H120Zm60-500h600v-160H180v160Zm220 220h160v-160H400v160Zm0 220h160v-160H400v160ZM180-400h160v-160H180v160Zm440 0h160v-160H620v160ZM180-180h160v-160H180v160Zm440 0h160v-160H620v160Z\"/>\n",
              "  </svg>\n",
              "    </button>\n",
              "\n",
              "  <style>\n",
              "    .colab-df-container {\n",
              "      display:flex;\n",
              "      gap: 12px;\n",
              "    }\n",
              "\n",
              "    .colab-df-convert {\n",
              "      background-color: #E8F0FE;\n",
              "      border: none;\n",
              "      border-radius: 50%;\n",
              "      cursor: pointer;\n",
              "      display: none;\n",
              "      fill: #1967D2;\n",
              "      height: 32px;\n",
              "      padding: 0 0 0 0;\n",
              "      width: 32px;\n",
              "    }\n",
              "\n",
              "    .colab-df-convert:hover {\n",
              "      background-color: #E2EBFA;\n",
              "      box-shadow: 0px 1px 2px rgba(60, 64, 67, 0.3), 0px 1px 3px 1px rgba(60, 64, 67, 0.15);\n",
              "      fill: #174EA6;\n",
              "    }\n",
              "\n",
              "    .colab-df-buttons div {\n",
              "      margin-bottom: 4px;\n",
              "    }\n",
              "\n",
              "    [theme=dark] .colab-df-convert {\n",
              "      background-color: #3B4455;\n",
              "      fill: #D2E3FC;\n",
              "    }\n",
              "\n",
              "    [theme=dark] .colab-df-convert:hover {\n",
              "      background-color: #434B5C;\n",
              "      box-shadow: 0px 1px 3px 1px rgba(0, 0, 0, 0.15);\n",
              "      filter: drop-shadow(0px 1px 2px rgba(0, 0, 0, 0.3));\n",
              "      fill: #FFFFFF;\n",
              "    }\n",
              "  </style>\n",
              "\n",
              "    <script>\n",
              "      const buttonEl =\n",
              "        document.querySelector('#df-e11917e1-2d79-4006-abd6-e0d0f5a25348 button.colab-df-convert');\n",
              "      buttonEl.style.display =\n",
              "        google.colab.kernel.accessAllowed ? 'block' : 'none';\n",
              "\n",
              "      async function convertToInteractive(key) {\n",
              "        const element = document.querySelector('#df-e11917e1-2d79-4006-abd6-e0d0f5a25348');\n",
              "        const dataTable =\n",
              "          await google.colab.kernel.invokeFunction('convertToInteractive',\n",
              "                                                    [key], {});\n",
              "        if (!dataTable) return;\n",
              "\n",
              "        const docLinkHtml = 'Like what you see? Visit the ' +\n",
              "          '<a target=\"_blank\" href=https://colab.research.google.com/notebooks/data_table.ipynb>data table notebook</a>'\n",
              "          + ' to learn more about interactive tables.';\n",
              "        element.innerHTML = '';\n",
              "        dataTable['output_type'] = 'display_data';\n",
              "        await google.colab.output.renderOutput(dataTable, element);\n",
              "        const docLink = document.createElement('div');\n",
              "        docLink.innerHTML = docLinkHtml;\n",
              "        element.appendChild(docLink);\n",
              "      }\n",
              "    </script>\n",
              "  </div>\n",
              "\n",
              "\n",
              "    <div id=\"df-d93bcc6e-bc6b-4fef-86c9-2ae421e09320\">\n",
              "      <button class=\"colab-df-quickchart\" onclick=\"quickchart('df-d93bcc6e-bc6b-4fef-86c9-2ae421e09320')\"\n",
              "                title=\"Suggest charts\"\n",
              "                style=\"display:none;\">\n",
              "\n",
              "<svg xmlns=\"http://www.w3.org/2000/svg\" height=\"24px\"viewBox=\"0 0 24 24\"\n",
              "     width=\"24px\">\n",
              "    <g>\n",
              "        <path d=\"M19 3H5c-1.1 0-2 .9-2 2v14c0 1.1.9 2 2 2h14c1.1 0 2-.9 2-2V5c0-1.1-.9-2-2-2zM9 17H7v-7h2v7zm4 0h-2V7h2v10zm4 0h-2v-4h2v4z\"/>\n",
              "    </g>\n",
              "</svg>\n",
              "      </button>\n",
              "\n",
              "<style>\n",
              "  .colab-df-quickchart {\n",
              "      --bg-color: #E8F0FE;\n",
              "      --fill-color: #1967D2;\n",
              "      --hover-bg-color: #E2EBFA;\n",
              "      --hover-fill-color: #174EA6;\n",
              "      --disabled-fill-color: #AAA;\n",
              "      --disabled-bg-color: #DDD;\n",
              "  }\n",
              "\n",
              "  [theme=dark] .colab-df-quickchart {\n",
              "      --bg-color: #3B4455;\n",
              "      --fill-color: #D2E3FC;\n",
              "      --hover-bg-color: #434B5C;\n",
              "      --hover-fill-color: #FFFFFF;\n",
              "      --disabled-bg-color: #3B4455;\n",
              "      --disabled-fill-color: #666;\n",
              "  }\n",
              "\n",
              "  .colab-df-quickchart {\n",
              "    background-color: var(--bg-color);\n",
              "    border: none;\n",
              "    border-radius: 50%;\n",
              "    cursor: pointer;\n",
              "    display: none;\n",
              "    fill: var(--fill-color);\n",
              "    height: 32px;\n",
              "    padding: 0;\n",
              "    width: 32px;\n",
              "  }\n",
              "\n",
              "  .colab-df-quickchart:hover {\n",
              "    background-color: var(--hover-bg-color);\n",
              "    box-shadow: 0 1px 2px rgba(60, 64, 67, 0.3), 0 1px 3px 1px rgba(60, 64, 67, 0.15);\n",
              "    fill: var(--button-hover-fill-color);\n",
              "  }\n",
              "\n",
              "  .colab-df-quickchart-complete:disabled,\n",
              "  .colab-df-quickchart-complete:disabled:hover {\n",
              "    background-color: var(--disabled-bg-color);\n",
              "    fill: var(--disabled-fill-color);\n",
              "    box-shadow: none;\n",
              "  }\n",
              "\n",
              "  .colab-df-spinner {\n",
              "    border: 2px solid var(--fill-color);\n",
              "    border-color: transparent;\n",
              "    border-bottom-color: var(--fill-color);\n",
              "    animation:\n",
              "      spin 1s steps(1) infinite;\n",
              "  }\n",
              "\n",
              "  @keyframes spin {\n",
              "    0% {\n",
              "      border-color: transparent;\n",
              "      border-bottom-color: var(--fill-color);\n",
              "      border-left-color: var(--fill-color);\n",
              "    }\n",
              "    20% {\n",
              "      border-color: transparent;\n",
              "      border-left-color: var(--fill-color);\n",
              "      border-top-color: var(--fill-color);\n",
              "    }\n",
              "    30% {\n",
              "      border-color: transparent;\n",
              "      border-left-color: var(--fill-color);\n",
              "      border-top-color: var(--fill-color);\n",
              "      border-right-color: var(--fill-color);\n",
              "    }\n",
              "    40% {\n",
              "      border-color: transparent;\n",
              "      border-right-color: var(--fill-color);\n",
              "      border-top-color: var(--fill-color);\n",
              "    }\n",
              "    60% {\n",
              "      border-color: transparent;\n",
              "      border-right-color: var(--fill-color);\n",
              "    }\n",
              "    80% {\n",
              "      border-color: transparent;\n",
              "      border-right-color: var(--fill-color);\n",
              "      border-bottom-color: var(--fill-color);\n",
              "    }\n",
              "    90% {\n",
              "      border-color: transparent;\n",
              "      border-bottom-color: var(--fill-color);\n",
              "    }\n",
              "  }\n",
              "</style>\n",
              "\n",
              "      <script>\n",
              "        async function quickchart(key) {\n",
              "          const quickchartButtonEl =\n",
              "            document.querySelector('#' + key + ' button');\n",
              "          quickchartButtonEl.disabled = true;  // To prevent multiple clicks.\n",
              "          quickchartButtonEl.classList.add('colab-df-spinner');\n",
              "          try {\n",
              "            const charts = await google.colab.kernel.invokeFunction(\n",
              "                'suggestCharts', [key], {});\n",
              "          } catch (error) {\n",
              "            console.error('Error during call to suggestCharts:', error);\n",
              "          }\n",
              "          quickchartButtonEl.classList.remove('colab-df-spinner');\n",
              "          quickchartButtonEl.classList.add('colab-df-quickchart-complete');\n",
              "        }\n",
              "        (() => {\n",
              "          let quickchartButtonEl =\n",
              "            document.querySelector('#df-d93bcc6e-bc6b-4fef-86c9-2ae421e09320 button');\n",
              "          quickchartButtonEl.style.display =\n",
              "            google.colab.kernel.accessAllowed ? 'block' : 'none';\n",
              "        })();\n",
              "      </script>\n",
              "    </div>\n",
              "\n",
              "  <div id=\"id_af4c675b-7055-43ae-b4f9-38598d9a0505\">\n",
              "    <style>\n",
              "      .colab-df-generate {\n",
              "        background-color: #E8F0FE;\n",
              "        border: none;\n",
              "        border-radius: 50%;\n",
              "        cursor: pointer;\n",
              "        display: none;\n",
              "        fill: #1967D2;\n",
              "        height: 32px;\n",
              "        padding: 0 0 0 0;\n",
              "        width: 32px;\n",
              "      }\n",
              "\n",
              "      .colab-df-generate:hover {\n",
              "        background-color: #E2EBFA;\n",
              "        box-shadow: 0px 1px 2px rgba(60, 64, 67, 0.3), 0px 1px 3px 1px rgba(60, 64, 67, 0.15);\n",
              "        fill: #174EA6;\n",
              "      }\n",
              "\n",
              "      [theme=dark] .colab-df-generate {\n",
              "        background-color: #3B4455;\n",
              "        fill: #D2E3FC;\n",
              "      }\n",
              "\n",
              "      [theme=dark] .colab-df-generate:hover {\n",
              "        background-color: #434B5C;\n",
              "        box-shadow: 0px 1px 3px 1px rgba(0, 0, 0, 0.15);\n",
              "        filter: drop-shadow(0px 1px 2px rgba(0, 0, 0, 0.3));\n",
              "        fill: #FFFFFF;\n",
              "      }\n",
              "    </style>\n",
              "    <button class=\"colab-df-generate\" onclick=\"generateWithVariable('df_results')\"\n",
              "            title=\"Generate code using this dataframe.\"\n",
              "            style=\"display:none;\">\n",
              "\n",
              "  <svg xmlns=\"http://www.w3.org/2000/svg\" height=\"24px\"viewBox=\"0 0 24 24\"\n",
              "       width=\"24px\">\n",
              "    <path d=\"M7,19H8.4L18.45,9,17,7.55,7,17.6ZM5,21V16.75L18.45,3.32a2,2,0,0,1,2.83,0l1.4,1.43a1.91,1.91,0,0,1,.58,1.4,1.91,1.91,0,0,1-.58,1.4L9.25,21ZM18.45,9,17,7.55Zm-12,3A5.31,5.31,0,0,0,4.9,8.1,5.31,5.31,0,0,0,1,6.5,5.31,5.31,0,0,0,4.9,4.9,5.31,5.31,0,0,0,6.5,1,5.31,5.31,0,0,0,8.1,4.9,5.31,5.31,0,0,0,12,6.5,5.46,5.46,0,0,0,6.5,12Z\"/>\n",
              "  </svg>\n",
              "    </button>\n",
              "    <script>\n",
              "      (() => {\n",
              "      const buttonEl =\n",
              "        document.querySelector('#id_af4c675b-7055-43ae-b4f9-38598d9a0505 button.colab-df-generate');\n",
              "      buttonEl.style.display =\n",
              "        google.colab.kernel.accessAllowed ? 'block' : 'none';\n",
              "\n",
              "      buttonEl.onclick = () => {\n",
              "        google.colab.notebook.generateWithVariable('df_results');\n",
              "      }\n",
              "      })();\n",
              "    </script>\n",
              "  </div>\n",
              "\n",
              "    </div>\n",
              "  </div>\n"
            ],
            "application/vnd.google.colaboratory.intrinsic+json": {
              "type": "dataframe",
              "variable_name": "df_results",
              "summary": "{\n  \"name\": \"df_results\",\n  \"rows\": 4,\n  \"fields\": [\n    {\n      \"column\": \"n_estimators\",\n      \"properties\": {\n        \"dtype\": \"number\",\n        \"std\": 222,\n        \"min\": 10,\n        \"max\": 500,\n        \"num_unique_values\": 4,\n        \"samples\": [\n          50,\n          500,\n          10\n        ],\n        \"semantic_type\": \"\",\n        \"description\": \"\"\n      }\n    },\n    {\n      \"column\": \"test_accuracy\",\n      \"properties\": {\n        \"dtype\": \"number\",\n        \"std\": 0.01851851851851855,\n        \"min\": 0.9629629629629629,\n        \"max\": 1.0,\n        \"num_unique_values\": 2,\n        \"samples\": [\n          1.0,\n          0.9629629629629629\n        ],\n        \"semantic_type\": \"\",\n        \"description\": \"\"\n      }\n    }\n  ]\n}"
            }
          },
          "metadata": {}
        },
        {
          "output_type": "display_data",
          "data": {
            "text/plain": [
              "<Figure size 600x400 with 1 Axes>"
            ],
            "image/png": "[encoded data removed]"
          },
          "metadata": {}
        }
      ]
    },
    {
      "cell_type": "markdown",
      "source": [
        "**Pregunta de reflexión:** ¿Vale la pena entrenar con muchísimos árboles? ¿Dónde parece estabilizarse la mejora?\n",
        "\n",
        "Se estabiliza al llegar a 50 árboles. No vale la pena entrenar con demasiados árboles porque, tal y como se observa anteriormente, lleba un punto en el que se estabiliza."
      ],
      "metadata": {
        "id": "jLHXV3_k3l0g"
      }
    },
    {
      "cell_type": "markdown",
      "source": [
        "# **6. Importancia de las Características**"
      ],
      "metadata": {
        "id": "IVozzZIZ4AOs"
      }
    },
    {
      "cell_type": "code",
      "source": [
        "# Elegimos el mejor n_estimators por test_accuracy\n",
        "best_row = df_results.sort_values(\"test_accuracy\", ascending=False).iloc[0]\n",
        "best_n = int(best_row[\"n_estimators\"])\n",
        "print(\"Mejor n_estimators por accuracy test:\", best_n)\n",
        "\n",
        "rf_best = RandomForestClassifier(n_estimators=best_n, random_state=RANDOM_STATE, n_jobs=-1)\n",
        "rf_best.fit(X_train, Y_train)\n",
        "\n",
        "importances = pd.Series(rf_best.feature_importances_, index=X.columns).sort_values(ascending=False)\n",
        "display(importances.head(10))\n",
        "\n",
        "plt.figure(figsize=(8,5))\n",
        "sns.barplot(x=importances.values, y=importances.index)\n",
        "plt.title(\"Importancia de características (Random Forest)\")\n",
        "plt.xlabel(\"Importancia\"); plt.ylabel(\"Variable\")\n",
        "plt.tight_layout()\n",
        "plt.show()"
      ],
      "metadata": {
        "colab": {
          "base_uri": "https://localhost:8080/",
          "height": 905
        },
        "id": "b6hflZfY3_JC",
        "outputId": "c2194ac5-eaec-47dd-8950-7d86e549d998"
      },
      "execution_count": 65,
      "outputs": [
        {
          "output_type": "stream",
          "name": "stdout",
          "text": [
            "Mejor n_estimators por accuracy test: 50\n"
          ]
        },
        {
          "output_type": "display_data",
          "data": {
            "text/plain": [
              "flavanoids                      0.177677\n",
              "alcohol                         0.155654\n",
              "color_intensity                 0.134549\n",
              "hue                             0.133527\n",
              "od280/od315_of_diluted_wines    0.103641\n",
              "proline                         0.098419\n",
              "magnesium                       0.052765\n",
              "malic_acid                      0.041216\n",
              "total_phenols                   0.037174\n",
              "alcalinity_of_ash               0.022999\n",
              "dtype: float64"
            ],
            "text/html": [
              "<div>\n",
              "<style scoped>\n",
              "    .dataframe tbody tr th:only-of-type {\n",
              "        vertical-align: middle;\n",
              "    }\n",
              "\n",
              "    .dataframe tbody tr th {\n",
              "        vertical-align: top;\n",
              "    }\n",
              "\n",
              "    .dataframe thead th {\n",
              "        text-align: right;\n",
              "    }\n",
              "</style>\n",
              "<table border=\"1\" class=\"dataframe\">\n",
              "  <thead>\n",
              "    <tr style=\"text-align: right;\">\n",
              "      <th></th>\n",
              "      <th>0</th>\n",
              "    </tr>\n",
              "  </thead>\n",
              "  <tbody>\n",
              "    <tr>\n",
              "      <th>flavanoids</th>\n",
              "      <td>0.177677</td>\n",
              "    </tr>\n",
              "    <tr>\n",
              "      <th>alcohol</th>\n",
              "      <td>0.155654</td>\n",
              "    </tr>\n",
              "    <tr>\n",
              "      <th>color_intensity</th>\n",
              "      <td>0.134549</td>\n",
              "    </tr>\n",
              "    <tr>\n",
              "      <th>hue</th>\n",
              "      <td>0.133527</td>\n",
              "    </tr>\n",
              "    <tr>\n",
              "      <th>od280/od315_of_diluted_wines</th>\n",
              "      <td>0.103641</td>\n",
              "    </tr>\n",
              "    <tr>\n",
              "      <th>proline</th>\n",
              "      <td>0.098419</td>\n",
              "    </tr>\n",
              "    <tr>\n",
              "      <th>magnesium</th>\n",
              "      <td>0.052765</td>\n",
              "    </tr>\n",
              "    <tr>\n",
              "      <th>malic_acid</th>\n",
              "      <td>0.041216</td>\n",
              "    </tr>\n",
              "    <tr>\n",
              "      <th>total_phenols</th>\n",
              "      <td>0.037174</td>\n",
              "    </tr>\n",
              "    <tr>\n",
              "      <th>alcalinity_of_ash</th>\n",
              "      <td>0.022999</td>\n",
              "    </tr>\n",
              "  </tbody>\n",
              "</table>\n",
              "</div><br><label><b>dtype:</b> float64</label>"
            ]
          },
          "metadata": {}
        },
        {
          "output_type": "display_data",
          "data": {
            "text/plain": [
              "<Figure size 800x500 with 1 Axes>"
            ],
            "image/png": "[encoded data removed]"
          },
          "metadata": {}
        }
      ]
    },
    {
      "cell_type": "markdown",
      "source": [
        "**Pregunta de reflexión:** ¿Cuáles variables parecen ser más relevantes para clasificar los vinos? ¿Tiene sentido con el dominio del problema?\n",
        "\n",
        "Los vinos se distinguen según sus propiedades organolépticas. Están compuestos por flavonoides que influyen en esas propiedades (sabor, amargor, astringencia y color), además, diferentes tipos de vino tienen concentraciones muy distintas de estos compuestos. Luego, el alcohol está relacionado con el proceso de fermentación y la variedad de la uva. Vinos de diferentes regiones y uvas tienen diferentes grados alcohólicos por lo que es fácil distinguirlos entre clases. Las variables no son arbitrarias pues se conectan con lo indicado inicialmente, esto significa que el modelo además de predecir bien, también selecciona las variables que un catador también destacaría."
      ],
      "metadata": {
        "id": "UCrPMwPc46EC"
      }
    },
    {
      "cell_type": "markdown",
      "source": [
        "# **7. Conclusiones**"
      ],
      "metadata": {
        "id": "X8NPG81p6Yt9"
      }
    },
    {
      "cell_type": "markdown",
      "source": [
        "**Resume en tus propias palabras** qué diferencias encontraste entre un Árbol de Decisión y un Random Forest.\n",
        "\n",
        "Un árbol de decisión divide los datos en ramas según reglas que le permiten llegar a una predicción. Si se deja crecer mucho tiende a memorizar causando overfitting. Por otro lado, un Random Forest construye muchos árboles en paralelo (bosques :D) y luego combina sus resultados por votación. De esta forma se vuelve más robusto y con menor riesgo de sobreajuste.\n",
        "\n",
        "\n",
        "**Explica** cómo los hiperparámetros (max_depth, min_samples_split, n_estimators) influyen en el rendimiento.\n",
        "\n",
        "\n",
        "\n",
        "*   max_depth controla la profundidad del árbol. Si es más alta, entonces memoriza causando sobre ajuste. Mientras que si es más baja simplifica causando underfitting.\n",
        "*   min_samples_split indica el mínimo de muestras para dividir un nodo. Si es más alto se vuelve un árbol con menos divisiones pequeñas, pero si es más bajo entonces arriesga a memorizar.\n",
        "* n_estimators disponible para Random Forest es para seleccionar el número de árboles. Si son muy pocos es menos robusto, si son los justos y necesarios es muy estable y si son demasiados se tiene el miso accuracy que en el anterior, pero consumen más memoria y procedimiento.\n",
        "\n",
        "\n",
        "\n",
        "\n",
        "**Reflexiona:** ¿Qué ventajas ofrece un Random Forest sobre un solo árbol?\n",
        "\n",
        "Reduce el overfitting al compensarse los errores de un árbol con otros. Se generan predicciones más confiables con mejores generalizaciones a partir de datos nuevos. Permite identificar e interpretar las variables que son más importantes en la clasificación. Finalmente, aunque no se observó particularmente en este lab, es más robusto y suele funcionar bien incluso si hay ruido en los datos."
      ],
      "metadata": {
        "id": "Y176bsd76e1j"
      }
    }
  ],
  "metadata": {
    "kernelspec": {
      "display_name": "Python 3",
      "language": "python",
      "name": "python3"
    },
    "language_info": {
      "name": "python",
      "version": "3.10"
    },
    "colab": {
      "provenance": []
    }
  },
  "nbformat": 4,
  "nbformat_minor": 0
}